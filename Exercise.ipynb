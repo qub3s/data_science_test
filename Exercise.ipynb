{
 "cells": [
  {
   "attachments": {},
   "cell_type": "markdown",
   "id": "89d0f270-e012-4d95-850d-fbf05fc42281",
   "metadata": {},
   "source": [
    "## Hausaufgabe 5\n",
    "\n",
    "#### **Abgabe** <br> 10.06. 12:00 Uhr (via studIP) \n",
    "#### **Verteidigung** <br> 13.06. 08:00-11:00 Uhr \n",
    "\n",
    "Mit jedem Blatt können **maximal** 5 Prozentpunkte Bonus für die Klausur erreicht werden, falls:\n",
    "1) mind. 60% des Arbeitsblattes korrekt bearbeitet wurden \n",
    "2) das Arbeitsblatt erfolgreich verteidigt (den Tutoren erklärt) wurde.\n",
    "\n",
    "*Rahmenbedingungen*:\n",
    "- Jede Gruppe muss sich bei studIP für einen Slot zur Verteidigung registrieren.\n",
    "- Erfolgreiche Verteidigung bedeutet, dass ein von uns ausgewähltes Team-Mitglied die Lösung erklärt und Fragen dazu beantwortet.\n",
    "- ChatGPT und andere Hilfsmittel dürfen verwendet werden, müssen aber zitiert werden.\n",
    "- Der Code muss ohne Hilfsmittel erläutert werden.\n",
    "- Wir bewerten nicht nur die Korrektheit der Ergebnisse, sondern auch ob der Code effizient, einfach zu verstehen, aufgeräumt und gut dokumentiert ist.\n",
    "- Jede Gruppe gibt nur eine Lösung als Zip-Datei ab, die mit dem Namen und der Matrikelnummer eines Mitglieds versehen ist. Also z.B. `mustermann_12345678.zip` "
   ]
  },
  {
   "attachments": {},
   "cell_type": "markdown",
   "id": "c98c6db8-b47c-499d-a5a3-a57cf918f0a0",
   "metadata": {},
   "source": [
    "## Exercise 1\n",
    "**Achtung:** Manche Commands sind interaktiv. Daher empfehlen wir alle Anweisungen in einem separaten Terminal auszuführen und anschließend hier zu dokumentieren. \n",
    "\n",
    "**Achtung:** Wir wollen hier das Verwalten von Remote-Repositories, inklusive Forks und Pull-Requests üben. Da es nicht möglich ist sein eigenes Repository zu forken, müssen Sie entweder zwei Benutzer Konten haben (arbeitet in Gruppen) oder Sie legen das Remote-Repository in einer Organisation an (siehe [hier](https://docs.github.com/en/organizations/collaborating-with-groups-in-organizations/creating-a-new-organization-from-scratch)) und forken das Repository dann mit ihrem eigenen Account.  \n",
    "\n",
    "Die Finale Abgabe sollte das gesamte Git-Repository (den Ordner inklusive des versteckten Unterordners `.git` und den Link zu GitHub) beinhalten, welches zeigt dass Sie alle Befehle korrekt ausgeführt haben."
   ]
  },
  {
   "attachments": {},
   "cell_type": "markdown",
   "id": "f8e2ed09-bdc7-4846-812b-a90a6da9711e",
   "metadata": {},
   "source": [
    "#### a) [2.5%] \n",
    "- Erstellen Sie ein neues lokales Repository \n",
    "- Legen Sie die Dateien `mergesort.py` und `to_be_ignored.txt` in das Repository und commiten Sie sie."
   ]
  },
  {
   "cell_type": "markdown",
   "id": "67bddd53",
   "metadata": {},
   "source": [
    "- git init\n",
    "- **files ablegen**\n",
    "- git add .\n",
    "- git commit -m \"init\""
   ]
  },
  {
   "attachments": {},
   "cell_type": "markdown",
   "id": "23b63840-7c4d-40cd-9fe2-c51a869fc0ec",
   "metadata": {},
   "source": [
    "#### b) [5%]\n",
    "- Erstellen Sie eine `.gitignore` Datei (siehe [hier](https://github.com/github/gitignore) für Beispiele von nützlichen gitignore Vorlagen). \n",
    "- Fügen Sie `to_be_ignored.txt` zur `.gitignore` hinzu und entfernen Sie sie aus der Git-Historie."
   ]
  },
  {
   "cell_type": "markdown",
   "id": "b5a5c029",
   "metadata": {},
   "source": [
    "- touch .gitignore\n",
    "- **\"/to_be_ignored.txt\" - als line hinzufügen**\n",
    "\n",
    "- git rm --chached to_be_ignored.txt\n",
    "- git add .\n",
    "- git commit -m \"removed files\""
   ]
  },
  {
   "attachments": {},
   "cell_type": "markdown",
   "id": "ab7a9d11-89eb-4716-8571-34766d4c976f",
   "metadata": {},
   "source": [
    "#### c) [15%]\n",
    "- Erstellen Sie einen neuen Branch (Feature Branch) und wechseln Sie anschließend zu diesem.\n",
    "- Bereinigen Sie die Datei `mergesort.py`, um die Regeln für sauberen Code zu befolgen, die wir in der Vorlesung aufgestellt haben. \n",
    "- Versuchen Sie auch, den Code zu verstehen (siehe z.B. [hier](https://www.happycoders.eu/de/algorithmen/mergesort/) für eine Erklärung des Algorithmus) und dokumentieren Sie den Code.\n",
    "- Seine Funktionalität sollte sich nicht ändern!\n",
    "- Es sollte mindestens 7 Punkte geben, die zu verbessern sind.\n",
    "- Commiten Sie Ihre Änderungen. "
   ]
  },
  {
   "cell_type": "code",
   "execution_count": null,
   "id": "75e295c5",
   "metadata": {},
   "outputs": [],
   "source": [
    "git branch some_branch\n",
    "git checkout some_branch\n",
    "git commit -m \"clean_code\""
   ]
  },
  {
   "cell_type": "code",
   "execution_count": 14,
   "id": "461ed286",
   "metadata": {},
   "outputs": [
    {
     "name": "stdout",
     "output_type": "stream",
     "text": [
      "[17, 20, 26, 31, 44, 54, 55, 77, 93]\n"
     ]
    }
   ],
   "source": [
    "def ASSIGNMENT(new_list, i, old_list, j):\n",
    "    new_list[i] = old_list[j]\n",
    "\n",
    "\n",
    "def mergeSort(list_to_sort_by_merge):\n",
    "    if (\n",
    "        len(list_to_sort_by_merge) > 1\n",
    "        and not len(list_to_sort_by_merge) < 1\n",
    "        and len(list_to_sort_by_merge) != 0\n",
    "    ):\n",
    "        mid = len(list_to_sort_by_merge) // 2\n",
    "        left = list_to_sort_by_merge[:mid]\n",
    "        right = list_to_sort_by_merge[mid:]\n",
    "\n",
    "        mergeSort(left)\n",
    "        mergeSort(right)\n",
    "\n",
    "        l = 0\n",
    "        r = 0\n",
    "        i = 0\n",
    "\n",
    "        while l < len(left) and r < len(right):\n",
    "            if left[l] <= right[r]:\n",
    "                ASSIGNMENT(new_list=list_to_sort_by_merge, i=i, old_list=left, j=l)\n",
    "                l += 1\n",
    "            else:\n",
    "                ASSIGNMENT(new_list=list_to_sort_by_merge, i=i, old_list=right, j=r)\n",
    "                r += 1\n",
    "            i += 1\n",
    "\n",
    "        while l < len(left):\n",
    "            list_to_sort_by_merge[i] = left[l]\n",
    "            l += 1\n",
    "            i += 1\n",
    "\n",
    "        while r < len(right):\n",
    "            list_to_sort_by_merge[i] = right[r]\n",
    "            r += 1\n",
    "            i += 1\n",
    "\n",
    "my_list = [54, 26, 93, 17, 77, 31, 44, 55, 20]\n",
    "mergeSort(my_list)\n",
    "print(my_list)\n"
   ]
  },
  {
   "cell_type": "markdown",
   "id": "e2dd7650",
   "metadata": {},
   "source": [
    "# Veränderungen:\n",
    "- Assignment auflösen als funktion\n",
    "- left, right -> left_sublist, right_sublist\n",
    "- l, r -> leftiterator, rightiterator\n",
    "- i -> iterator\n",
    "- ifstatement brackes in the line of the code\n",
    "- comments ?\n",
    "\n",
    "Noch was ???"
   ]
  },
  {
   "attachments": {},
   "cell_type": "markdown",
   "id": "1c131abc-c1b0-4b97-ac37-04abad5f5e99",
   "metadata": {},
   "source": [
    "#### d) [5%]\n",
    "- Erstellen Sie ein neues Repository auf GitHub (machen Sie es public). \n",
    "- Richten Sie eine ssh-Verifizierung für Ihr GitHub-Konto ein. \n",
    "- Fügen Sie die ssh-Adresse Ihres Repositorys als neues remote Repository zu Ihrem lokalen Repository hinzu.  "
   ]
  },
  {
   "cell_type": "markdown",
   "id": "b7c0e00a",
   "metadata": {},
   "source": [
    "- git remote add origin git@github.com:qub3s/data_science_test.git"
   ]
  },
  {
   "attachments": {},
   "cell_type": "markdown",
   "id": "5a03706d-c986-48c9-9207-2ff59770b7f4",
   "metadata": {},
   "source": [
    "#### e) [2.5%]\n",
    "- Wechseln Sie zurück zum `main` Branch.\n",
    "- Pushen Sie in Ihr remote Repository"
   ]
  },
  {
   "cell_type": "code",
   "execution_count": null,
   "id": "fe7c6a6e",
   "metadata": {},
   "outputs": [],
   "source": [
    "git checkout master\n",
    "git push -u origin master"
   ]
  },
  {
   "attachments": {},
   "cell_type": "markdown",
   "id": "6d91483e-0a00-4fba-958d-fea707fd47e2",
   "metadata": {},
   "source": [
    "#### f) [5%]\n",
    "- Ändern Sie den Plotting-Teil von `mergesort.py` so, dass er die in der Vorlesung festgelegten Standards widerspiegelt. (Versuchen Sie auch zu überlegen, was die beste Art Plot für diese Daten sein könnte.)\n",
    "- Commiten Sie es und pushen Sie es in das remote Repository."
   ]
  },
  {
   "cell_type": "code",
   "execution_count": 12,
   "id": "f848a061",
   "metadata": {},
   "outputs": [
    {
     "data": {
      "image/png": "[encoded data removed]",
      "text/plain": [
       "<Figure size 640x480 with 1 Axes>"
      ]
     },
     "metadata": {},
     "output_type": "display_data"
    },
    {
     "data": {
      "image/png": "[encoded data removed]",
      "text/plain": [
       "<Figure size 640x480 with 1 Axes>"
      ]
     },
     "metadata": {},
     "output_type": "display_data"
    }
   ],
   "source": [
    "import matplotlib.pyplot as plt\n",
    "\n",
    "my_list = [54, 26, 93, 17, 77, 31, 44, 55, 20]\n",
    "x = range(len(my_list))\n",
    "plt.scatter(x, my_list)\n",
    "plt.xlabel(\"Position\")\n",
    "plt.ylabel(\"Value\")\n",
    "plt.show()\n",
    "mergeSort(my_list)\n",
    "x = range(len(my_list))\n",
    "plt.scatter(x, my_list)\n",
    "plt.xlabel(\"Position\")\n",
    "plt.ylabel(\"Value\")\n",
    "plt.show()"
   ]
  },
  {
   "cell_type": "markdown",
   "id": "5ce3f0e9",
   "metadata": {},
   "source": [
    "- git commit -m \"change of visuals\"\n",
    "- git push origin master"
   ]
  },
  {
   "attachments": {},
   "cell_type": "markdown",
   "id": "3f4d7088-60b8-41b5-9806-114839f8e8cb",
   "metadata": {},
   "source": [
    "#### g) [2.5%]\n",
    " - Wechseln Sie zurück zum Feature Branch. \n",
    " - Erstellen Sie einen Fork des remote Repositorys auf GitHub. **Dies muss durch einen anderen Benutzer geschehen, falls das original Repository nicht zu einer Organisation gehört!**  \n",
    " - Fügen Sie den Fork als weiteres remote Repository zu Ihrem lokalen Repository hinzu. \n",
    " - Pushen Sie Ihren lokalen Branch in den Fork und erstellen Sie einen Pull-Request auf GitHub."
   ]
  },
  {
   "cell_type": "code",
   "execution_count": null,
   "id": "36d55c11",
   "metadata": {},
   "outputs": [],
   "source": []
  },
  {
   "attachments": {},
   "cell_type": "markdown",
   "id": "6d9dbf98-3ea2-4b7f-8b8b-eb4526784c28",
   "metadata": {},
   "source": [
    "#### h) [10%]\n",
    "- Der Pull-Request sollte anzeigen, dass es Konflikte gibt. \n",
    "- Mergen Sie den `main`-Branch (lokal auf Ihrem Computer) in Ihren Feature-Branch ein (nicht umgekehrt!) und lösen Sie die Konflikte.\n",
    "- Pushen Sie Ihren Feature-Branch wieder in Ihren Fork und mergen Sie den Pull-Request."
   ]
  },
  {
   "cell_type": "code",
   "execution_count": null,
   "id": "2248a9a7",
   "metadata": {},
   "outputs": [],
   "source": []
  },
  {
   "attachments": {},
   "cell_type": "markdown",
   "id": "8f690324-815f-4e2e-807b-3e6f87f483dd",
   "metadata": {},
   "source": [
    "#### i) [2.5%]\n",
    "- Wechseln Sie zurück zum \"main\"-Branch und pullen Sie aus dem remote Repository.\n",
    "- Löschen Sie den lokalen Feature-Branch (er ist ja bereits im main Branch)."
   ]
  },
  {
   "cell_type": "code",
   "execution_count": null,
   "id": "677abe5f",
   "metadata": {},
   "outputs": [],
   "source": []
  },
  {
   "attachments": {},
   "cell_type": "markdown",
   "id": "d44e4b00-95cf-4be3-8b46-90d53bfad0aa",
   "metadata": {},
   "source": [
    "Zeigen Sie ihre Git-Historie an:"
   ]
  },
  {
   "cell_type": "code",
   "execution_count": null,
   "id": "b4db096d-eeaf-442e-8620-6b76bb4f33eb",
   "metadata": {},
   "outputs": [],
   "source": [
    "git log"
   ]
  },
  {
   "attachments": {},
   "cell_type": "markdown",
   "id": "2932b317-11a9-4cfd-9757-519c0cd4a396",
   "metadata": {},
   "source": [
    "## Exercise 2"
   ]
  },
  {
   "attachments": {},
   "cell_type": "markdown",
   "id": "39e88314-ea52-4e2a-a106-41e006e64b29",
   "metadata": {},
   "source": [
    "Betrachten Sie die folgende Aufgabe:\n",
    "\n",
    "Gegeben ist ein Array von Intergern in dem alle Elemente außer eins genau zweimal vorkommen, finden Sie das einzelne Element.\n",
    "\n",
    "Beispiel: `[1,2,3,4,3,1,2]`\n",
    "\n",
    "Das einzelne Element ist: `4`\n",
    "\n",
    "Sie können annehmen, dass der Array ungerade Länge hat und es nur ein Element gibt, das nur genau einmal vorkommt.\n",
    "\n",
    "Hinweis: Die folgenden Aufgaben müssen nicht notwendigerweise in Reihenfolge bearbeitet werden.\n"
   ]
  },
  {
   "attachments": {},
   "cell_type": "markdown",
   "id": "1be8bfc4-a31b-49ee-8ceb-f8c8daa863de",
   "metadata": {},
   "source": [
    "#### a) [15%] Schreiben Sie test-Fälle für die oben beschrieben Aufgabe. \n",
    "(Mind. 5 Testfälle nötig!) \n",
    "Denken Sie an mögliche Randfälle und ungültige Eingaben.\n",
    "\n",
    "**Benutzen sie `pytest` und schreiben Sie die Tests in separate Dateien.**"
   ]
  },
  {
   "cell_type": "markdown",
   "id": "63d72e63",
   "metadata": {},
   "source": [
    "Testfälle:\n",
    "- Es gibt eine gerade Anzahl an Elementen (1)\n",
    "- Es gibt ein Element mehr als zweimal (2)\n",
    "- Es gibt mehr als ein Element einmal (3)\n",
    "- Es gibt kein Element was einmal vorkommt (4)\n",
    "- Es gibt float Elemente (5)"
   ]
  },
  {
   "attachments": {},
   "cell_type": "markdown",
   "id": "1a6141b7-2f71-4ff2-8dfe-55e837ee512e",
   "metadata": {},
   "source": [
    "#### b) [10%] Basierend auf den test-Fällen, schreiben Sie eine Methode welche den Task erfolgreich (und effizient) löst."
   ]
  },
  {
   "cell_type": "code",
   "execution_count": 30,
   "id": "6d516929",
   "metadata": {},
   "outputs": [
    {
     "name": "stdout",
     "output_type": "stream",
     "text": [
      "[1]\n"
     ]
    }
   ],
   "source": [
    "import numpy as np \n",
    "\n",
    "array = [1, 2, 3, 4, 2, 3, 4]\n",
    "\n",
    "n = np.array(array)\n",
    "unique, counts = np.unique(n, return_counts=True)\n",
    "print(unique[counts == 1])"
   ]
  },
  {
   "attachments": {},
   "cell_type": "markdown",
   "id": "4af37373-85a5-4e27-96a9-0c093f56a2c8",
   "metadata": {},
   "source": [
    "#### c) [10%] Schreiben Sie ein Docker-File welches `numpy`, `pandas`, `matplotlib` und `seaborn` installiert. "
   ]
  },
  {
   "cell_type": "markdown",
   "id": "ba19955d",
   "metadata": {},
   "source": [
    "- FROM alpine\n",
    "- RUN apk update && apk add python3 && apk add py3-pip\n",
    "- RUN pip install numpy pandas matplotlib seaborn --break-system-packages"
   ]
  },
  {
   "attachments": {},
   "cell_type": "markdown",
   "id": "4101f101-6a16-4308-add4-f4dc94ec8a9c",
   "metadata": {},
   "source": [
    "#### d) [15%] Schreiben Sie eine Docker-compose Datei, welche zwei verschiedene Services anbietet:\n",
    "\n",
    "1. Alle Tests durchlaufen lassen.\n",
    "2. Die Methode für einen gegebenen Input laufen lassen.\n",
    "\n",
    "Stellen Sie auch sicher, dass der Container das Verzeichnis mit Ihren Skripten mountet, sodass Sie Zugriff auf die aktuelle Version Ihres Codes haben.\n",
    "\n",
    "Demonstrieren Sie in einem Test auch, dass die angegebenen Libraries aus c) erfolgreich installiert sind."
   ]
  },
  {
   "cell_type": "markdown",
   "id": "c2da47a9",
   "metadata": {},
   "source": [
    "```\n",
    "FROM alpine\n",
    "\n",
    "RUN apk update && apk add python3 && apk add py3-pip\n",
    "RUN pip install numpy pandas matplotlib seaborn pytest --break-system-packages\n",
    "ADD . /home/\n",
    "WORKDIR /home/\n",
    "```"
   ]
  },
  {
   "cell_type": "markdown",
   "id": "8018a430",
   "metadata": {},
   "source": [
    "-------\n",
    "```\n",
    "version: \"3\"\n",
    "services: \n",
    "  test: \n",
    "    image: ds \n",
    "    command: pytest\n",
    "\n",
    "  app: \n",
    "    image: ds \n",
    "    entrypoint: python3 real_test.py\n",
    "```"
   ]
  },
  {
   "cell_type": "markdown",
   "id": "12c4b719",
   "metadata": {},
   "source": [
    "----\n",
    "```\n",
    "Command to run: docker-compose up test/app cli-arguments\n",
    "```"
   ]
  }
 ],
 "metadata": {
  "kernelspec": {
   "display_name": "Python 3",
   "language": "python",
   "name": "python3"
  },
  "language_info": {
   "codemirror_mode": {
    "name": "ipython",
    "version": 3
   },
   "file_extension": ".py",
   "mimetype": "text/x-python",
   "name": "python",
   "nbconvert_exporter": "python",
   "pygments_lexer": "ipython3",
   "version": "3.12.3"
  }
 },
 "nbformat": 4,
 "nbformat_minor": 5
}
